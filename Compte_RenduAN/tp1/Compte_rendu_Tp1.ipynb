{
 "cells": [
  {
   "cell_type": "markdown",
   "metadata": {},
   "source": [
    "\n",
    "<h1 style=\"color:DodgerBlue;\" ><u>COMPTE RENDU TP1</u></h1>\n",
    "\n",
    "\n",
    "\n",
    "<h2><U>  Objectif : </U> </h2>    \n",
    " \n",
    " \n",
    ">  *    Maitriser les trois méthodes {point fixe, dichotomie et Newton} de trouver x tel que f(x)=0.  \n",
    "   *    avoir la différence entre les trois méthodes.  \n",
    "   *    Programmer les solutions en Python.    \n",
    "\n",
    "   \n",
    "\n",
    "## Exercice 2 :\n",
    "### 2.1/ \n",
    "  \n",
    "  Apres l’implémentation du bibliothèque du langage Python \" Matplotlib \"  qui sert à tracer les fonctions, nous dessinons la courbe de f(x) dans l’intervalle [-2, 2].\n",
    "\n",
    "    \n",
    "\n",
    "    \n",
    "\n"
   ]
  },
  {
   "cell_type": "code",
   "execution_count": 1,
   "metadata": {},
   "outputs": [
    {
     "data": {
      "text/plain": [
       "[<matplotlib.lines.Line2D at 0x7e0fb50>]"
      ]
     },
     "execution_count": 1,
     "metadata": {},
     "output_type": "execute_result"
    },
    {
     "data": {
      "image/png": "[encoded data removed]",
      "text/plain": [
       "<Figure size 432x288 with 1 Axes>"
      ]
     },
     "metadata": {
      "needs_background": "light"
     },
     "output_type": "display_data"
    }
   ],
   "source": [
    "import matplotlib.pyplot as plt\n",
    "from numpy import linspace \n",
    "f=lambda x: x**3+x**2-3*x-3\n",
    "T=linspace(-2,2,41)\n",
    "plt.title(\"f(x) dans [-2:2]\")\n",
    "plt.xlabel(\"x\")\n",
    "plt.ylabel(\"f(x)\")\n",
    "plt.grid(True)\n",
    "plt.plot(T,f(T))"
   ]
  },
  {
   "cell_type": "markdown",
   "metadata": {},
   "source": [
    ">D'après ce graphe on constate que la fonction f coupe l'axe des abscisses en trois points, alors les intervalles correspond avec la méthode de bissection sont :  \n",
    "  *   ]-2.0;-1.5[    \n",
    "  *   ]-1.5;0.5[     \n",
    "  *   ]1.5;2.0[   \n",
    "  > <u><h3>Rappel</h3></u>\n",
    "  <u>La méthode de bissection:</u> C’est un algorithme de recherche d'un zéro d’une fonction ( solution de l’équation f(x)=0) qui consiste à répéter des divisions d’un intervalle en deux sous-intervalles puis à sélectionner le où lequel existe un zéro.\n",
    "  \n",
    "   <img src = \"https://upload.wikimedia.org/wikipedia/commons/thumb/8/8c/Bisection_method.svg/220px-Bisection_method.svg.png\"  title = \"Principe de Dicothomie\" >\n",
    "\n"
   ]
  },
  {
   "cell_type": "markdown",
   "metadata": {
    "scrolled": true
   },
   "source": [
    "\n",
    " \n",
    " ### 2.2/ \n"
   ]
  },
  {
   "cell_type": "code",
   "execution_count": 6,
   "metadata": {},
   "outputs": [],
   "source": [
    "  def dicho(k, a, b, esp):\n",
    "    m = (a + b) / 2\n",
    "\n",
    "    err = abs(b - a)\n",
    "    while err > esp:\n",
    "        if k(m) == 0:\n",
    "            break\n",
    "\n",
    "        elif k(a) * k(b) < 0:\n",
    "            b = m\n",
    "        else:\n",
    "            a = m\n",
    "        m = (a + b) / 2\n",
    "        err = abs(b - a)\n",
    "    return m\n",
    "\n",
    "\n",
    "\n",
    "  "
   ]
  },
  {
   "cell_type": "code",
   "execution_count": 11,
   "metadata": {},
   "outputs": [
    {
     "name": "stdout",
     "output_type": "stream",
     "text": [
      "-1.75048828125 -1.0 1.62451171875\n"
     ]
    }
   ],
   "source": [
    "x1=dicho(f,-2,-1.5,0.001)\n",
    "x2=dicho(f,-1.5,0.5,0.001)\n",
    "x3=dicho(f,1.5,2.0,0.001)\n",
    "print(x1,x2,x3)"
   ]
  },
  {
   "cell_type": "code",
   "execution_count": 15,
   "metadata": {},
   "outputs": [
    {
     "name": "stdout",
     "output_type": "stream",
     "text": [
      "le point= -1.75048828125 et le nbr itération= 9\n",
      "le point= -1.0 et le nbr itération= 2\n",
      "le point= 1.62451171875 et le nbr itération= 9\n"
     ]
    }
   ],
   "source": [
    " def dichow(k, a, b, esp):\n",
    "    m = (a + b) / 2\n",
    "    n=0\n",
    "    err = abs(b - a)\n",
    "    while err > esp:\n",
    "        n+=1           #intialisation d'un conteur \n",
    "        if k(m) == 0:\n",
    "            break\n",
    "\n",
    "        elif k(a) * k(b) < 0:\n",
    "            b = m\n",
    "        else:\n",
    "            a = m\n",
    "        m = (a + b) / 2\n",
    "        err = abs(b - a)\n",
    "    return print('pour x=', m,' le nbr itération=' , n)\n",
    "x1=dichow(f,-2,-1.5,0.001)\n",
    "x2=dichow(f,-1.5,0.5,0.001)\n",
    "x3=dichow(f,1.5,2.0,0.001)\n"
   ]
  },
  {
   "cell_type": "markdown",
   "metadata": {},
   "source": [
    "> On remarque que la méthode est lente par exemple elle fait 9 itération sa signifie que la boucle \" wile \" s'éxecute 9 fois pour avoir la premiére solution qui est s'éloigne de 0.25 de a, avec a=-2.  \n",
    "\n",
    "\n",
    "## Exercice 3 :\n",
    "### 3.1/ \n",
    "> On déssine la fonction f dans l'intervalle [1,2] puis on estime graphiquement avec un erreur de 0.001 le zéro de f puisque f est strictement croissante alors il existe une seule solution:"
   ]
  },
  {
   "cell_type": "code",
   "execution_count": 3,
   "metadata": {},
   "outputs": [
    {
     "data": {
      "image/png": "[encoded data removed]",
      "text/plain": [
       "<Figure size 432x288 with 4 Axes>"
      ]
     },
     "metadata": {
      "needs_background": "light"
     },
     "output_type": "display_data"
    }
   ],
   "source": [
    "%matplotlib inline\n",
    "import numpy as np \n",
    "import matplotlib.pyplot as plt\n",
    "\n",
    "f=lambda x:x**3+4*x**2-10\n",
    "\n",
    "t=np.linspace(1,2,100)\n",
    "plt.subplot(2,2,1)\n",
    "plt.plot(t,f(t),'r')\n",
    "plt.grid(True)\n",
    "plt.title('f([1,2])')\n",
    "##########################################\n",
    "t=np.linspace(1.2,1.4,100)\n",
    "plt.subplot(2,2,2)\n",
    "plt.plot(t,f(t),'b')\n",
    "plt.grid(True)\n",
    "\n",
    "##########################################\n",
    "t=np.linspace(1.35,1.4,100)\n",
    "plt.subplot(2,2,3)\n",
    "plt.plot(t,f(t),'b')\n",
    "plt.grid(True)\n",
    "\n",
    "#########################################\n",
    "#########################################\n",
    "#########################################\n",
    "t=np.linspace(1.365,1.367,100)\n",
    "plt.subplot(2,2,4)\n",
    "plt.plot(t,f(t))\n",
    "plt.grid(True)\n",
    "\n"
   ]
  },
  {
   "cell_type": "markdown",
   "metadata": {},
   "source": [
    "> Cette fonction est strictement croissant f(a)*f(b)<0 alors elle admet une seule solution de f(x)=0.\n",
    "ce qui est montrer avec la méthode de zoom graphiquement. \n",
    "\n",
    "## 3.2/\n",
    "> <u>Rappel</u>   \n",
    "       Cet algorithme remplace la recherche d’une racine de f par la recherche de\n",
    "point fixe d’une fonction g fabriquée uniquement dans ce but, de sorte que:\n",
    "        <center>x=g(x) </center> \n",
    "        Comme g n'est pas unique, elle dépend de la convergence de méthode de\n",
    "point fixe.\n",
    "\n",
    "\n",
    "    "
   ]
  },
  {
   "cell_type": "code",
   "execution_count": 1,
   "metadata": {},
   "outputs": [
    {
     "data": {
      "image/png": "[encoded data removed]",
      "text/latex": [
       "$\\displaystyle -0.5117446282927461$"
      ],
      "text/plain": [
       "-0.5117446282927461"
      ]
     },
     "execution_count": 1,
     "metadata": {},
     "output_type": "execute_result"
    }
   ],
   "source": [
    "from sympy import *\n",
    "import numpy as np\n",
    "x, y, z = symbols('x y z')\n",
    "init_printing(use_unicode=True)\n",
    "g1=lambda x: 1/2*sqrt(10-x**3)\n",
    "dg1=lambdify(x,diff(g1(x),x,1))\n",
    "dg1(1.365)"
   ]
  },
  {
   "cell_type": "markdown",
   "metadata": {},
   "source": [
    "> on a   |g'(x)| < 1 donc la méthode est converge."
   ]
  },
  {
   "cell_type": "code",
   "execution_count": 6,
   "metadata": {},
   "outputs": [
    {
     "ename": "IndentationError",
     "evalue": "expected an indented block (<ipython-input-6-365a358392ac>, line 8)",
     "output_type": "error",
     "traceback": [
      "\u001b[1;36m  File \u001b[1;32m\"<ipython-input-6-365a358392ac>\"\u001b[1;36m, line \u001b[1;32m8\u001b[0m\n\u001b[1;33m    return (zero,erreur,i)\u001b[0m\n\u001b[1;37m    ^\u001b[0m\n\u001b[1;31mIndentationError\u001b[0m\u001b[1;31m:\u001b[0m expected an indented block\n"
     ]
    }
   ],
   "source": []
  },
  {
   "cell_type": "markdown",
   "metadata": {},
   "source": [
    "## Exercice 4 :\n",
    "### 4.1/ \n",
    "> <u>Rappel</u>  \n",
    " un algorithme efficace pour trouver numériquement une approximation précise d'un zéro  \n",
    "    \n",
    "   <img src = \"https://upload.wikimedia.org/wikipedia/commons/8/83/Methode_newton.png\"  title = \"Principe de Newton\" >\n",
    "    \n",
    "   "
   ]
  },
  {
   "cell_type": "code",
   "execution_count": 8,
   "metadata": {},
   "outputs": [],
   "source": [
    "from math import exp\n",
    "from time import time\n",
    "f=lambda x: exp(-x)-x\n",
    "fprime=lambda x: -exp(-x)-1\n",
    "def newton(a,eps):\n",
    "    debut=time()\n",
    "    x1=a\n",
    "    x2=x1-f(x1)/fprime(x1)\n",
    "    while (abs(x1-x2)>eps) :\n",
    "        x1=x2\n",
    "        x2=x1-(f(x1)/fprime(x1))\n",
    "        fin=time()\n",
    "    return x2,fin-debut\n"
   ]
  },
  {
   "cell_type": "markdown",
   "metadata": {},
   "source": [
    "## 4.2/"
   ]
  },
  {
   "cell_type": "code",
   "execution_count": 10,
   "metadata": {},
   "outputs": [
    {
     "data": {
      "image/png": "[encoded data removed]",
      "text/latex": [
       "$\\displaystyle \\left( 0.567143285989123, \\  0.0\\right)$"
      ],
      "text/plain": [
       "(0.567143285989123, 0.0)"
      ]
     },
     "execution_count": 10,
     "metadata": {},
     "output_type": "execute_result"
    }
   ],
   "source": [
    "newton(1,0.001)"
   ]
  },
  {
   "cell_type": "markdown",
   "metadata": {},
   "source": [
    "#  Conclusion\n",
    "\n",
    "La méthode de Bissection est une méthode simple et facile mais  ne fonctionne que si la fonction coupe l’axe des x.\n",
    "Dans un deuxième niveau on trouve la méthode de point fixe moins lente que cette dernier et résoudre le problème de avoir un point x de l'axe abscisse mais il faut connait le bon critère de convergence/divergence et\n",
    " comprend et savoir analyser les résultats obtenus.\n"
   ]
  },
  {
   "cell_type": "code",
   "execution_count": null,
   "metadata": {},
   "outputs": [],
   "source": []
  }
 ],
 "metadata": {
  "kernelspec": {
   "display_name": "Python 3",
   "language": "python",
   "name": "python3"
  },
  "language_info": {
   "codemirror_mode": {
    "name": "ipython",
    "version": 3
   },
   "file_extension": ".py",
   "mimetype": "text/x-python",
   "name": "python",
   "nbconvert_exporter": "python",
   "pygments_lexer": "ipython3",
   "version": "3.8.3"
  }
 },
 "nbformat": 4,
 "nbformat_minor": 4
}
