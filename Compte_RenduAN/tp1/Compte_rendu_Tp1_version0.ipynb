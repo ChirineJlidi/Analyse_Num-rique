{
 "cells": [
  {
   "cell_type": "markdown",
   "metadata": {},
   "source": [
    "\n",
    "<h1 style=\"color:DodgerBlue;\" ><u>COMPTE RENDU TP1</u></h1>\n",
    "\n",
    "\n",
    "\n",
    " <u><h2>Objectif:</u></h2> \n",
    ">  *    Maitriser les trois méthodes {point fixe, dichotomie et Newton} de trouver x tel que f(x)=0.  \n",
    "   *    avoir la différence entre les trois méthodes.  \n",
    "   *    Programmer les solutions en Python.    \n",
    "\n",
    "   \n",
    "\n",
    "  ## Exercice 1 :\n",
    " ### 1.1/ \n",
    " \n",
    " > On utilise comme outil de calcule mathématique Octave pour montrer que les deux fonctions f(x) et p(x) donnent des              résultats différents  dans l’intervalle [0.998, 1.002].\n",
    "    \n",
    "\n",
    "    \n",
    "\n"
   ]
  },
  {
   "cell_type": "code",
   "execution_count": 1,
   "metadata": {},
   "outputs": [],
   "source": [
    "function x = horner(a,z_0)\n",
    "n = length(a);\n",
    "result = a(1);\n",
    "for j = 2:n\n",
    "    result = result*z_0 + a(j);\n",
    "endfor\n",
    "x = result;\n",
    "end\n"
   ]
  },
  {
   "cell_type": "code",
   "execution_count": 2,
   "metadata": {
    "scrolled": true
   },
   "outputs": [
    {
     "name": "stdout",
     "output_type": "stream",
     "text": [
      "p =\n",
      "\n",
      "@(x) (x - 1) .^ 6\n",
      "\n",
      "f =\n",
      "\n",
      "@(x) x .^ 6 - 6 * x .^ 5 + 15 * x .^ 4 - 20 * x .^ 3 + 15 * x .^ 2 - 6 * x + 1\n",
      "\n"
     ]
    }
   ],
   "source": [
    "p=@(x) (x-1).^6\n",
    "f=@(x) x.^6 - 6*x.^5 + 15*x.^4 - 20*x.^3 + 15*x.^2 - 6*x + 1"
   ]
  },
  {
   "cell_type": "code",
   "execution_count": 3,
   "metadata": {},
   "outputs": [
    {
     "name": "stdout",
     "output_type": "stream",
     "text": [
      "T =\n",
      "\n",
      "    1   -6   15  -20   15   -6    1\n",
      "\n",
      "-------p(i)---------\n",
      "ans =    6.4000e-17\n",
      "ans =    1.0000e-18\n",
      "ans = 0\n",
      "ans =    1.0000e-18\n",
      "ans =    6.4000e-17\n",
      "-------f(i)----------\n",
      "ans =    1.7764e-15\n",
      "ans = 0\n",
      "ans = 0\n",
      "ans =    8.8818e-16\n",
      "ans =   -1.7764e-15\n",
      "-------horner--------\n",
      "ans =   -1.3323e-15\n",
      "ans =   -2.2204e-15\n",
      "ans = 0\n",
      "ans =   -6.6613e-16\n",
      "ans =   -6.6613e-16\n"
     ]
    }
   ],
   "source": [
    "T=[1 -6 15 -20 15 -6 1]\n",
    "% Expression réduite\n",
    "disp('-------p(i)---------')\n",
    "for i=[0.998:0.001:1.002]\n",
    "p(i)\n",
    "endfor\n",
    "%expression developpée\n",
    "disp('-------f(i)----------')\n",
    "for i=[0.998:0.001:1.002]\n",
    "f(i)\n",
    "endfor\n",
    "disp('-------horner--------')\n",
    "for i=[0.998:0.001:1.002]\n",
    "horner(T,i)\n",
    "endfor"
   ]
  },
  {
   "cell_type": "markdown",
   "metadata": {},
   "source": [
    "### 1.1/ \n",
    "  > A travers la commande \"plot\", on trace les deux fonctions dans un même repère : f(x) en rouge et p(x) en bleu. \n",
    "   On remarque la différence au niveau graphique, cette différence est à cause de la répétition de l'arrondi chaque                itération.\n"
   ]
  },
  {
   "cell_type": "code",
   "execution_count": 4,
   "metadata": {},
   "outputs": [
    {
     "data": {
      "image/png": "[encoded data removed]",
      "text/plain": [
       "<IPython.core.display.Image object>"
      ]
     },
     "metadata": {},
     "output_type": "display_data"
    }
   ],
   "source": [
    "x=[0.998:0.0001:1.002];\n",
    "plot(x,f(x),'r',x,p(x),'b*')\n",
    "title (\" f([0.998:0.0001:1.002]) \");\n",
    "xlabel (\"x\");\n",
    "ylabel (\"f(x)\");\n",
    "grid on;"
   ]
  },
  {
   "cell_type": "markdown",
   "metadata": {},
   "source": [
    "\n",
    "\n",
    "  ## Exercice 2 :\n",
    " ### 2.1/ \n",
    "        Apres l’implémentation du bibliothèque du langage Python \" Matplotlib \"  qui sert à tracer les fonctions, nous dessinons la courbe de f(x) dans l’intervalle [-2, 2].\n",
    "\n"
   ]
  },
  {
   "cell_type": "code",
   "execution_count": 1,
   "metadata": {},
   "outputs": [
    {
     "data": {
      "text/plain": [
       "[<matplotlib.lines.Line2D at 0x7e0fb50>]"
      ]
     },
     "execution_count": 1,
     "metadata": {},
     "output_type": "execute_result"
    },
    {
     "data": {
      "image/png": "[encoded data removed]",
      "text/plain": [
       "<Figure size 432x288 with 1 Axes>"
      ]
     },
     "metadata": {
      "needs_background": "light"
     },
     "output_type": "display_data"
    }
   ],
   "source": [
    "import matplotlib.pyplot as plt\n",
    "from numpy import linspace \n",
    "f=lambda x: x**3+x**2-3*x-3\n",
    "T=linspace(-2,2,41)\n",
    "plt.title(\"f(x) dans [-2:2]\")\n",
    "plt.xlabel(\"x\")\n",
    "plt.ylabel(\"f(x)\")\n",
    "plt.grid(True)\n",
    "plt.plot(T,f(T))"
   ]
  },
  {
   "cell_type": "markdown",
   "metadata": {},
   "source": [
    ">D'après ce graphe on constate que la fonction f coupe l'axe des abscisses en trois points, alors les intervalles correspond avec la méthode de bissection sont :  \n",
    "  *   ]-2.0;-1.5[    \n",
    "  *   ]-1.5;0.5[     \n",
    "  *   ]1.5;2.0[   \n",
    "  > <u><h3>Rappel</h3></u>\n",
    "  <u>La méthode de bissection:</u> C’est un algorithme de recherche d'un zéro d’une fonction ( solution de l’équation f(x)=0) qui consiste à répéter des divisions d’un intervalle en deux sous-intervalles puis à sélectionner le où lequel existe un zéro.\n",
    "  \n",
    "   <img src = \"https://upload.wikimedia.org/wikipedia/commons/thumb/8/8c/Bisection_method.svg/220px-Bisection_method.svg.png\"  title = \"Principe de Dicothomie\" >\n",
    "\n"
   ]
  },
  {
   "cell_type": "markdown",
   "metadata": {
    "scrolled": true
   },
   "source": [
    "\n",
    " \n",
    " ### 2.2/ \n"
   ]
  },
  {
   "cell_type": "code",
   "execution_count": 6,
   "metadata": {},
   "outputs": [],
   "source": [
    "  def dicho(k, a, b, esp):\n",
    "    m = (a + b) / 2\n",
    "\n",
    "    err = abs(b - a)\n",
    "    while err > esp:\n",
    "        if k(m) == 0:\n",
    "            break\n",
    "\n",
    "        elif k(a) * k(b) < 0:\n",
    "            b = m\n",
    "        else:\n",
    "            a = m\n",
    "        m = (a + b) / 2\n",
    "        err = abs(b - a)\n",
    "    return m\n",
    "\n",
    "\n",
    "\n",
    "  "
   ]
  },
  {
   "cell_type": "code",
   "execution_count": 11,
   "metadata": {},
   "outputs": [
    {
     "name": "stdout",
     "output_type": "stream",
     "text": [
      "-1.75048828125 -1.0 1.62451171875\n"
     ]
    }
   ],
   "source": [
    "x1=dicho(f,-2,-1.5,0.001)\n",
    "x2=dicho(f,-1.5,0.5,0.001)\n",
    "x3=dicho(f,1.5,2.0,0.001)\n",
    "print(x1,x2,x3)"
   ]
  },
  {
   "cell_type": "code",
   "execution_count": 15,
   "metadata": {},
   "outputs": [
    {
     "name": "stdout",
     "output_type": "stream",
     "text": [
      "le point= -1.75048828125 et le nbr itération= 9\n",
      "le point= -1.0 et le nbr itération= 2\n",
      "le point= 1.62451171875 et le nbr itération= 9\n"
     ]
    }
   ],
   "source": [
    " def dichow(k, a, b, esp):\n",
    "    m = (a + b) / 2\n",
    "    n=0\n",
    "    err = abs(b - a)\n",
    "    while err > esp:\n",
    "        n+=1\n",
    "        if k(m) == 0:\n",
    "            break\n",
    "\n",
    "        elif k(a) * k(b) < 0:\n",
    "            b = m\n",
    "        else:\n",
    "            a = m\n",
    "        m = (a + b) / 2\n",
    "        err = abs(b - a)\n",
    "    return print('le point=', m,'et le nbr itération=' , n)\n",
    "x1=dichow(f,-2,-1.5,0.001)\n",
    "x2=dichow(f,-1.5,0.5,0.001)\n",
    "x3=dichow(f,1.5,2.0,0.001)\n"
   ]
  },
  {
   "cell_type": "markdown",
   "metadata": {},
   "source": [
    "\n",
    "  ## Exercice 3 :\n",
    " ### 3.1/ \n",
    "> On déssine la fonction f dans l'intervalle [1,2] puis on estime graphiquement avec un erreur de 0.001 le zéro de f puisque f est strictement croissante alors il existe une seule solution:\n",
    "  "
   ]
  },
  {
   "cell_type": "code",
   "execution_count": 4,
   "metadata": {},
   "outputs": [
    {
     "data": {
      "image/png": "[encoded data removed]",
      "text/plain": [
       "<Figure size 432x288 with 4 Axes>"
      ]
     },
     "metadata": {
      "needs_background": "light"
     },
     "output_type": "display_data"
    }
   ],
   "source": [
    "%matplotlib inline\n",
    "import numpy as np \n",
    "import matplotlib.pyplot as plt\n",
    "\n",
    "f=lambda x:x**3+4*x**2-10\n",
    "\n",
    "t=np.linspace(1,2,100)\n",
    "plt.subplot(2,2,1)\n",
    "plt.plot(t,f(t),'r')\n",
    "plt.grid(True)\n",
    "plt.title('f([1,2])')\n",
    "##########################################\n",
    "t=np.linspace(1.2,1.4,100)\n",
    "plt.subplot(2,2,2)\n",
    "plt.plot(t,f(t),'b')\n",
    "plt.grid(True)\n",
    "##########################################\n",
    "t=np.linspace(1.35,1.4,100)\n",
    "plt.subplot(2,2,3)\n",
    "plt.plot(t,f(t),'b')\n",
    "plt.grid(True)\n",
    "#########################################\n",
    "t=np.linspace(1.365,1.367,100)\n",
    "plt.subplot(2,2,4)\n",
    "plt.plot(t,f(t))\n",
    "plt.grid(True)\n"
   ]
  },
  {
   "cell_type": "markdown",
   "metadata": {},
   "source": [
    "### 3.2/ \n",
    "    \n",
    "    "
   ]
  },
  {
   "cell_type": "code",
   "execution_count": null,
   "metadata": {},
   "outputs": [],
   "source": []
  }
 ],
 "metadata": {
  "kernelspec": {
   "display_name": "Python 3",
   "language": "python",
   "name": "python3"
  },
  "language_info": {
   "codemirror_mode": {
    "name": "ipython",
    "version": 3
   },
   "file_extension": ".py",
   "mimetype": "text/x-python",
   "name": "python",
   "nbconvert_exporter": "python",
   "pygments_lexer": "ipython3",
   "version": "3.8.3"
  }
 },
 "nbformat": 4,
 "nbformat_minor": 4
}
